{
 "cells": [
  {
   "cell_type": "code",
   "execution_count": 1,
   "metadata": {},
   "outputs": [],
   "source": [
    "import pandas as pd\n",
    "import pyarrow\n",
    "import matplotlib.pyplot as plt\n",
    "import numpy as np\n",
    "from sklearn.tree import DecisionTreeRegressor"
   ]
  },
  {
   "cell_type": "code",
   "execution_count": 39,
   "metadata": {},
   "outputs": [],
   "source": [
    "X_train_03_14_1= pd.read_parquet(\"C:\\\\Users\\\\valif\\\\OneDrive\\\\Desktop\\\\SollIch-Hackathon_Daten\\\\SollIch-Hackathon_Daten\\\\Train_X\\\\2023_03_14_data.pq\")[:20000]\n",
    "\n",
    "X_train_03_14_1=X_train_03_14_1.drop('ProzessData_ActData_AB1_Temperature_DR1_WaterMixingStage', axis=1)\n",
    "\n",
    "Y1_train_03_14_1=pd.read_parquet(\"C:\\\\Users\\\\valif\\\\OneDrive\\\\Desktop\\\\SollIch-Hackathon_Daten\\\\SollIch-Hackathon_Daten\\\\Train_Y\\\\2023_03_14_target.pq\")[:20000]\n",
    "X_test_03_16_1=pd.read_parquet(\"C:\\\\Users\\\\valif\\\\OneDrive\\\\Desktop\\\\SollIch-Hackathon_Daten\\\\SollIch-Hackathon_Daten\\\\Eval_X\\\\2023_03_16_data.pq\")[:20000]\n",
    "\n",
    "X_test_03_16_1=X_test_03_16_1.drop('ProzessData_ActData_AB1_Temperature_DR1_WaterMixingStage', axis=1)\n",
    "Y1_test_03_16_1=pd.read_parquet(\"C:\\\\Users\\\\valif\\\\OneDrive\\\\Desktop\\\\SollIch-Hackathon_Daten\\\\SollIch-Hackathon_Daten\\\\Eval_Y\\\\2023_03_16_target.pq\")[:20000]"
   ]
  },
  {
   "cell_type": "code",
   "execution_count": null,
   "metadata": {},
   "outputs": [],
   "source": []
  },
  {
   "cell_type": "code",
   "execution_count": 40,
   "metadata": {},
   "outputs": [],
   "source": [
    "X_train_03_14_2= pd.read_parquet(\"C:\\\\Users\\\\valif\\\\OneDrive\\\\Desktop\\\\SollIch-Hackathon_Daten\\\\SollIch-Hackathon_Daten\\\\Train_X\\\\2023_03_14_data.pq\")[20000:50000]\n",
    "\n",
    "X_train_03_14_2=X_train_03_14_2.drop('ProzessData_ActData_AB1_Temperature_DR1_WaterMixingStage', axis=1)\n",
    "\n",
    "Y1_train_03_14_2=pd.read_parquet(\"C:\\\\Users\\\\valif\\\\OneDrive\\\\Desktop\\\\SollIch-Hackathon_Daten\\\\SollIch-Hackathon_Daten\\\\Train_Y\\\\2023_03_14_target.pq\")[20000:50000]\n",
    "X_test_03_16_2=pd.read_parquet(\"C:\\\\Users\\\\valif\\\\OneDrive\\\\Desktop\\\\SollIch-Hackathon_Daten\\\\SollIch-Hackathon_Daten\\\\Eval_X\\\\2023_03_16_data.pq\")[20000:50000]\n",
    "\n",
    "X_test_03_16_2=X_test_03_16_2.drop('ProzessData_ActData_AB1_Temperature_DR1_WaterMixingStage', axis=1)\n",
    "Y1_test_03_16_2=pd.read_parquet(\"C:\\\\Users\\\\valif\\\\OneDrive\\\\Desktop\\\\SollIch-Hackathon_Daten\\\\SollIch-Hackathon_Daten\\\\Eval_Y\\\\2023_03_16_target.pq\")[20000:50000]"
   ]
  },
  {
   "cell_type": "code",
   "execution_count": 41,
   "metadata": {},
   "outputs": [],
   "source": [
    "X_train_03_14_3= pd.read_parquet(\"C:\\\\Users\\\\valif\\\\OneDrive\\\\Desktop\\\\SollIch-Hackathon_Daten\\\\SollIch-Hackathon_Daten\\\\Train_X\\\\2023_03_14_data.pq\")[50000:]\n",
    "\n",
    "X_train_03_14_3=X_train_03_14_3.drop('ProzessData_ActData_AB1_Temperature_DR1_WaterMixingStage', axis=1)\n",
    "\n",
    "Y1_train_03_14_3=pd.read_parquet(\"C:\\\\Users\\\\valif\\\\OneDrive\\\\Desktop\\\\SollIch-Hackathon_Daten\\\\SollIch-Hackathon_Daten\\\\Train_Y\\\\2023_03_14_target.pq\")[50000:]\n",
    "X_test_03_16_3=pd.read_parquet(\"C:\\\\Users\\\\valif\\\\OneDrive\\\\Desktop\\\\SollIch-Hackathon_Daten\\\\SollIch-Hackathon_Daten\\\\Eval_X\\\\2023_03_16_data.pq\")[50000:]\n",
    "\n",
    "X_test_03_16_3=X_test_03_16_3.drop('ProzessData_ActData_AB1_Temperature_DR1_WaterMixingStage', axis=1)\n",
    "Y1_test_03_16_3=pd.read_parquet(\"C:\\\\Users\\\\valif\\\\OneDrive\\\\Desktop\\\\SollIch-Hackathon_Daten\\\\SollIch-Hackathon_Daten\\\\Eval_Y\\\\2023_03_16_target.pq\")[50000:]"
   ]
  },
  {
   "cell_type": "code",
   "execution_count": 64,
   "metadata": {},
   "outputs": [],
   "source": [
    "dt=DecisionTreeRegressor()\n",
    "dt.fit(X_train_03_14_3,Y1_train_03_14_3)\n",
    "y_pred=dt.predict(X_test_03_16_3)"
   ]
  },
  {
   "cell_type": "code",
   "execution_count": 65,
   "metadata": {},
   "outputs": [
    {
     "data": {
      "text/plain": [
       "[<matplotlib.lines.Line2D at 0x231f7db5fc0>]"
      ]
     },
     "execution_count": 65,
     "metadata": {},
     "output_type": "execute_result"
    },
    {
     "data": {
      "image/png": "[encoded data removed]",
      "text/plain": [
       "<Figure size 640x480 with 1 Axes>"
      ]
     },
     "metadata": {},
     "output_type": "display_data"
    }
   ],
   "source": [
    "plt.plot(y_pred)\n",
    "plt.plot(Y1_train_03_14_3.to_numpy())"
   ]
  },
  {
   "cell_type": "code",
   "execution_count": 54,
   "metadata": {},
   "outputs": [],
   "source": [
    "def weighted_absolute_error(y_pred,y_true):\n",
    "    points=0\n",
    "    for i in range(len(y_true)):\n",
    "        error=abs(y_pred[i]-y_true[i])\n",
    "        if 0<=error<=0.05:\n",
    "            points+=1\n",
    "        elif 0.05<error<=0.1:\n",
    "            points+=0.5\n",
    "        elif 0.1<error<=0.5:\n",
    "            points+=0.25\n",
    "        else:\n",
    "            points+=0\n",
    "    \n",
    "    return points\n"
   ]
  },
  {
   "cell_type": "code",
   "execution_count": 58,
   "metadata": {},
   "outputs": [],
   "source": [
    "wae1=weighted_absolute_error(y_pred, Y1_test_03_16_1.to_numpy())"
   ]
  },
  {
   "cell_type": "code",
   "execution_count": 59,
   "metadata": {},
   "outputs": [
    {
     "data": {
      "text/plain": [
       "17828.25"
      ]
     },
     "execution_count": 59,
     "metadata": {},
     "output_type": "execute_result"
    }
   ],
   "source": [
    "wae1"
   ]
  },
  {
   "cell_type": "code",
   "execution_count": 63,
   "metadata": {},
   "outputs": [],
   "source": [
    "wae2=weighted_absolute_error(y_pred, Y1_test_03_16_2.to_numpy())"
   ]
  },
  {
   "cell_type": "code",
   "execution_count": 66,
   "metadata": {},
   "outputs": [],
   "source": [
    "wae3=weighted_absolute_error(y_pred, Y1_test_03_16_3.to_numpy())"
   ]
  },
  {
   "cell_type": "code",
   "execution_count": 67,
   "metadata": {},
   "outputs": [
    {
     "data": {
      "text/plain": [
       "55813.75"
      ]
     },
     "execution_count": 67,
     "metadata": {},
     "output_type": "execute_result"
    }
   ],
   "source": [
    "wae1+wae2+wae3"
   ]
  },
  {
   "cell_type": "code",
   "execution_count": 24,
   "metadata": {},
   "outputs": [],
   "source": [
    "from sklearn.neighbors import KNeighborsRegressor"
   ]
  },
  {
   "cell_type": "code",
   "execution_count": 32,
   "metadata": {},
   "outputs": [],
   "source": [
    "knn=KNeighborsRegressor()\n",
    "knn.fit(X_train_03_14_3, Y1_train_03_14_3)\n",
    "y_pred_knn=knn.predict(X_test_03_16_3)"
   ]
  },
  {
   "cell_type": "code",
   "execution_count": 29,
   "metadata": {},
   "outputs": [],
   "source": [
    "wae1_knn=weighted_absolute_error(y_pred_knn, Y1_test_03_16_1.to_numpy())"
   ]
  },
  {
   "cell_type": "code",
   "execution_count": 31,
   "metadata": {},
   "outputs": [],
   "source": [
    "wae2_knn=weighted_absolute_error(y_pred_knn, Y1_test_03_16_2.to_numpy())"
   ]
  },
  {
   "cell_type": "code",
   "execution_count": 33,
   "metadata": {},
   "outputs": [],
   "source": [
    "wae3_knn=weighted_absolute_error(y_pred_knn, Y1_test_03_16_3.to_numpy())"
   ]
  },
  {
   "cell_type": "code",
   "execution_count": 34,
   "metadata": {},
   "outputs": [
    {
     "data": {
      "text/plain": [
       "52598.75"
      ]
     },
     "execution_count": 34,
     "metadata": {},
     "output_type": "execute_result"
    }
   ],
   "source": [
    "wae1_knn+wae2_knn+wae3_knn"
   ]
  }
 ],
 "metadata": {
  "kernelspec": {
   "display_name": "Python 3",
   "language": "python",
   "name": "python3"
  },
  "language_info": {
   "codemirror_mode": {
    "name": "ipython",
    "version": 3
   },
   "file_extension": ".py",
   "mimetype": "text/x-python",
   "name": "python",
   "nbconvert_exporter": "python",
   "pygments_lexer": "ipython3",
   "version": "3.10.11"
  }
 },
 "nbformat": 4,
 "nbformat_minor": 2
}
